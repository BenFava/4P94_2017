{
 "cells": [
  {
   "cell_type": "markdown",
   "metadata": {
    "slideshow": {
     "slide_type": "slide"
    }
   },
   "source": [
    "# Structure of analysis\n",
    "- Objective\n",
    "- Modules\n",
    "- Import \n",
    "- Clean \n",
    "- Organize \n",
    "- Generate \n",
    "- Analyze"
   ]
  },
  {
   "cell_type": "markdown",
   "metadata": {
    "slideshow": {
     "slide_type": "slide"
    }
   },
   "source": [
    "# Objective\n",
    "\n",
    "1. Calculate team win percentages: $winper=\\frac{W}{W+L}$\n",
    "2. Calculate team expected win percentages based on the origonal Pythagoream formula: $\\widehat{winper}=\\frac{RF^2}{RF^2+ RA^2}$\n",
    "3. Save datafram as csv in working directory"
   ]
  },
  {
   "cell_type": "markdown",
   "metadata": {
    "slideshow": {
     "slide_type": "slide"
    }
   },
   "source": [
    "## Modules"
   ]
  },
  {
   "cell_type": "code",
   "execution_count": 18,
   "metadata": {},
   "outputs": [],
   "source": [
    "import os\n",
    "import sys\n",
    "import pandas \n",
    "import numpy\n",
    "import matplotlib\n",
    "%matplotlib inline"
   ]
  },
  {
   "cell_type": "markdown",
   "metadata": {
    "slideshow": {
     "slide_type": "slide"
    }
   },
   "source": [
    "## Import"
   ]
  },
  {
   "cell_type": "code",
   "execution_count": 4,
   "metadata": {},
   "outputs": [
    {
     "name": "stdout",
     "output_type": "stream",
     "text": [
      "observe working directory\n"
     ]
    },
    {
     "data": {
      "text/plain": [
       "'C:\\\\Users\\\\kmongeon\\\\GIT\\\\4P94_2017\\\\01-pythagorean'"
      ]
     },
     "execution_count": 4,
     "metadata": {},
     "output_type": "execute_result"
    }
   ],
   "source": [
    "print('observe working directory')\n",
    "os.getcwd()"
   ]
  },
  {
   "cell_type": "code",
   "execution_count": 5,
   "metadata": {
    "slideshow": {
     "slide_type": "-"
    }
   },
   "outputs": [],
   "source": [
    "# print('change working directory')\n",
    "# os.chdir('/home/vmuser/Documents/4P94/01-pythagorean')"
   ]
  },
  {
   "cell_type": "code",
   "execution_count": 6,
   "metadata": {
    "slideshow": {
     "slide_type": "-"
    }
   },
   "outputs": [],
   "source": [
    "dm = pandas.read_csv('mlb_win.csv')\n",
    "dm.head()"
   ]
  },
  {
   "cell_type": "markdown",
   "metadata": {
    "slideshow": {
     "slide_type": "slide"
    }
   },
   "source": [
    "## Clean "
   ]
  },
  {
   "cell_type": "code",
   "execution_count": 7,
   "metadata": {
    "slideshow": {
     "slide_type": "-"
    }
   },
   "outputs": [
    {
     "data": {
      "text/plain": [
       "Index(['Team', 'League', 'W', 'L', 'Runs For', 'Runs Against'], dtype='object')"
      ]
     },
     "execution_count": 7,
     "metadata": {},
     "output_type": "execute_result"
    }
   ],
   "source": [
    "dm.columns"
   ]
  },
  {
   "cell_type": "code",
   "execution_count": 8,
   "metadata": {},
   "outputs": [
    {
     "data": {
      "text/plain": [
       "Team            object\n",
       "League          object\n",
       "W                int64\n",
       "L                int64\n",
       "Runs For         int64\n",
       "Runs Against     int64\n",
       "dtype: object"
      ]
     },
     "execution_count": 8,
     "metadata": {},
     "output_type": "execute_result"
    }
   ],
   "source": [
    "dm.dtypes"
   ]
  },
  {
   "cell_type": "markdown",
   "metadata": {
    "slideshow": {
     "slide_type": "slide"
    }
   },
   "source": [
    "## Organize "
   ]
  },
  {
   "cell_type": "code",
   "execution_count": 11,
   "metadata": {
    "slideshow": {
     "slide_type": "-"
    }
   },
   "outputs": [
    {
     "data": {
      "text/html": [
       "<div>\n",
       "<style scoped>\n",
       "    .dataframe tbody tr th:only-of-type {\n",
       "        vertical-align: middle;\n",
       "    }\n",
       "\n",
       "    .dataframe tbody tr th {\n",
       "        vertical-align: top;\n",
       "    }\n",
       "\n",
       "    .dataframe thead th {\n",
       "        text-align: right;\n",
       "    }\n",
       "</style>\n",
       "<table border=\"1\" class=\"dataframe\">\n",
       "  <thead>\n",
       "    <tr style=\"text-align: right;\">\n",
       "      <th></th>\n",
       "      <th>Team</th>\n",
       "      <th>League</th>\n",
       "      <th>W</th>\n",
       "      <th>L</th>\n",
       "      <th>Runs For</th>\n",
       "      <th>Runs Against</th>\n",
       "    </tr>\n",
       "  </thead>\n",
       "  <tbody>\n",
       "    <tr>\n",
       "      <th>14</th>\n",
       "      <td>Baltimore Orioles</td>\n",
       "      <td>AL</td>\n",
       "      <td>81</td>\n",
       "      <td>81</td>\n",
       "      <td>713</td>\n",
       "      <td>693</td>\n",
       "    </tr>\n",
       "    <tr>\n",
       "      <th>11</th>\n",
       "      <td>Boston Red Sox</td>\n",
       "      <td>AL</td>\n",
       "      <td>78</td>\n",
       "      <td>84</td>\n",
       "      <td>748</td>\n",
       "      <td>753</td>\n",
       "    </tr>\n",
       "    <tr>\n",
       "      <th>9</th>\n",
       "      <td>Chicago White Sox</td>\n",
       "      <td>AL</td>\n",
       "      <td>76</td>\n",
       "      <td>86</td>\n",
       "      <td>622</td>\n",
       "      <td>701</td>\n",
       "    </tr>\n",
       "    <tr>\n",
       "      <th>15</th>\n",
       "      <td>Cleveland Indians</td>\n",
       "      <td>AL</td>\n",
       "      <td>81</td>\n",
       "      <td>80</td>\n",
       "      <td>669</td>\n",
       "      <td>640</td>\n",
       "    </tr>\n",
       "    <tr>\n",
       "      <th>8</th>\n",
       "      <td>Detroit Tigers</td>\n",
       "      <td>AL</td>\n",
       "      <td>74</td>\n",
       "      <td>87</td>\n",
       "      <td>689</td>\n",
       "      <td>803</td>\n",
       "    </tr>\n",
       "  </tbody>\n",
       "</table>\n",
       "</div>"
      ],
      "text/plain": [
       "                 Team League   W   L  Runs For  Runs Against\n",
       "14  Baltimore Orioles     AL  81  81       713           693\n",
       "11     Boston Red Sox     AL  78  84       748           753\n",
       "9   Chicago White Sox     AL  76  86       622           701\n",
       "15  Cleveland Indians     AL  81  80       669           640\n",
       "8      Detroit Tigers     AL  74  87       689           803"
      ]
     },
     "execution_count": 11,
     "metadata": {},
     "output_type": "execute_result"
    }
   ],
   "source": [
    "dm = dm.sort_values(by=['League', 'Team'])\n",
    "dm.head()"
   ]
  },
  {
   "cell_type": "markdown",
   "metadata": {
    "slideshow": {
     "slide_type": "slide"
    }
   },
   "source": [
    "## Generate"
   ]
  },
  {
   "cell_type": "code",
   "execution_count": 13,
   "metadata": {
    "slideshow": {
     "slide_type": "-"
    }
   },
   "outputs": [
    {
     "data": {
      "text/html": [
       "<div>\n",
       "<style scoped>\n",
       "    .dataframe tbody tr th:only-of-type {\n",
       "        vertical-align: middle;\n",
       "    }\n",
       "\n",
       "    .dataframe tbody tr th {\n",
       "        vertical-align: top;\n",
       "    }\n",
       "\n",
       "    .dataframe thead th {\n",
       "        text-align: right;\n",
       "    }\n",
       "</style>\n",
       "<table border=\"1\" class=\"dataframe\">\n",
       "  <thead>\n",
       "    <tr style=\"text-align: right;\">\n",
       "      <th></th>\n",
       "      <th>Team</th>\n",
       "      <th>League</th>\n",
       "      <th>W</th>\n",
       "      <th>L</th>\n",
       "      <th>Runs For</th>\n",
       "      <th>Runs Against</th>\n",
       "      <th>RF2</th>\n",
       "      <th>RA2</th>\n",
       "    </tr>\n",
       "  </thead>\n",
       "  <tbody>\n",
       "    <tr>\n",
       "      <th>14</th>\n",
       "      <td>Baltimore Orioles</td>\n",
       "      <td>AL</td>\n",
       "      <td>81</td>\n",
       "      <td>81</td>\n",
       "      <td>713</td>\n",
       "      <td>693</td>\n",
       "      <td>508369</td>\n",
       "      <td>480249</td>\n",
       "    </tr>\n",
       "    <tr>\n",
       "      <th>11</th>\n",
       "      <td>Boston Red Sox</td>\n",
       "      <td>AL</td>\n",
       "      <td>78</td>\n",
       "      <td>84</td>\n",
       "      <td>748</td>\n",
       "      <td>753</td>\n",
       "      <td>559504</td>\n",
       "      <td>567009</td>\n",
       "    </tr>\n",
       "    <tr>\n",
       "      <th>9</th>\n",
       "      <td>Chicago White Sox</td>\n",
       "      <td>AL</td>\n",
       "      <td>76</td>\n",
       "      <td>86</td>\n",
       "      <td>622</td>\n",
       "      <td>701</td>\n",
       "      <td>386884</td>\n",
       "      <td>491401</td>\n",
       "    </tr>\n",
       "    <tr>\n",
       "      <th>15</th>\n",
       "      <td>Cleveland Indians</td>\n",
       "      <td>AL</td>\n",
       "      <td>81</td>\n",
       "      <td>80</td>\n",
       "      <td>669</td>\n",
       "      <td>640</td>\n",
       "      <td>447561</td>\n",
       "      <td>409600</td>\n",
       "    </tr>\n",
       "    <tr>\n",
       "      <th>8</th>\n",
       "      <td>Detroit Tigers</td>\n",
       "      <td>AL</td>\n",
       "      <td>74</td>\n",
       "      <td>87</td>\n",
       "      <td>689</td>\n",
       "      <td>803</td>\n",
       "      <td>474721</td>\n",
       "      <td>644809</td>\n",
       "    </tr>\n",
       "  </tbody>\n",
       "</table>\n",
       "</div>"
      ],
      "text/plain": [
       "                 Team League   W   L  Runs For  Runs Against     RF2     RA2\n",
       "14  Baltimore Orioles     AL  81  81       713           693  508369  480249\n",
       "11     Boston Red Sox     AL  78  84       748           753  559504  567009\n",
       "9   Chicago White Sox     AL  76  86       622           701  386884  491401\n",
       "15  Cleveland Indians     AL  81  80       669           640  447561  409600\n",
       "8      Detroit Tigers     AL  74  87       689           803  474721  644809"
      ]
     },
     "execution_count": 13,
     "metadata": {},
     "output_type": "execute_result"
    }
   ],
   "source": [
    "dm['RF2'] = dm['Runs For']**2\n",
    "dm['RA2'] = dm['Runs Against']**2\n",
    "dm.head()"
   ]
  },
  {
   "cell_type": "markdown",
   "metadata": {
    "slideshow": {
     "slide_type": "slide"
    }
   },
   "source": [
    "##  Analyze "
   ]
  },
  {
   "cell_type": "code",
   "execution_count": 15,
   "metadata": {
    "slideshow": {
     "slide_type": "-"
    }
   },
   "outputs": [
    {
     "data": {
      "text/html": [
       "<div>\n",
       "<style scoped>\n",
       "    .dataframe tbody tr th:only-of-type {\n",
       "        vertical-align: middle;\n",
       "    }\n",
       "\n",
       "    .dataframe tbody tr th {\n",
       "        vertical-align: top;\n",
       "    }\n",
       "\n",
       "    .dataframe thead th {\n",
       "        text-align: right;\n",
       "    }\n",
       "</style>\n",
       "<table border=\"1\" class=\"dataframe\">\n",
       "  <thead>\n",
       "    <tr style=\"text-align: right;\">\n",
       "      <th></th>\n",
       "      <th>Team</th>\n",
       "      <th>League</th>\n",
       "      <th>W</th>\n",
       "      <th>L</th>\n",
       "      <th>Runs For</th>\n",
       "      <th>Runs Against</th>\n",
       "      <th>RF2</th>\n",
       "      <th>RA2</th>\n",
       "      <th>WP</th>\n",
       "      <th>EWP</th>\n",
       "      <th>Diff</th>\n",
       "    </tr>\n",
       "  </thead>\n",
       "  <tbody>\n",
       "    <tr>\n",
       "      <th>14</th>\n",
       "      <td>Baltimore Orioles</td>\n",
       "      <td>AL</td>\n",
       "      <td>81</td>\n",
       "      <td>81</td>\n",
       "      <td>713</td>\n",
       "      <td>693</td>\n",
       "      <td>508369</td>\n",
       "      <td>480249</td>\n",
       "      <td>0.507112</td>\n",
       "      <td>0.514222</td>\n",
       "      <td>-0.007109</td>\n",
       "    </tr>\n",
       "    <tr>\n",
       "      <th>11</th>\n",
       "      <td>Boston Red Sox</td>\n",
       "      <td>AL</td>\n",
       "      <td>78</td>\n",
       "      <td>84</td>\n",
       "      <td>748</td>\n",
       "      <td>753</td>\n",
       "      <td>559504</td>\n",
       "      <td>567009</td>\n",
       "      <td>0.498334</td>\n",
       "      <td>0.496669</td>\n",
       "      <td>0.001666</td>\n",
       "    </tr>\n",
       "    <tr>\n",
       "      <th>9</th>\n",
       "      <td>Chicago White Sox</td>\n",
       "      <td>AL</td>\n",
       "      <td>76</td>\n",
       "      <td>86</td>\n",
       "      <td>622</td>\n",
       "      <td>701</td>\n",
       "      <td>386884</td>\n",
       "      <td>491401</td>\n",
       "      <td>0.470144</td>\n",
       "      <td>0.440499</td>\n",
       "      <td>0.029644</td>\n",
       "    </tr>\n",
       "    <tr>\n",
       "      <th>15</th>\n",
       "      <td>Cleveland Indians</td>\n",
       "      <td>AL</td>\n",
       "      <td>81</td>\n",
       "      <td>80</td>\n",
       "      <td>669</td>\n",
       "      <td>640</td>\n",
       "      <td>447561</td>\n",
       "      <td>409600</td>\n",
       "      <td>0.511077</td>\n",
       "      <td>0.522143</td>\n",
       "      <td>-0.011066</td>\n",
       "    </tr>\n",
       "    <tr>\n",
       "      <th>8</th>\n",
       "      <td>Detroit Tigers</td>\n",
       "      <td>AL</td>\n",
       "      <td>74</td>\n",
       "      <td>87</td>\n",
       "      <td>689</td>\n",
       "      <td>803</td>\n",
       "      <td>474721</td>\n",
       "      <td>644809</td>\n",
       "      <td>0.461796</td>\n",
       "      <td>0.424036</td>\n",
       "      <td>0.037760</td>\n",
       "    </tr>\n",
       "  </tbody>\n",
       "</table>\n",
       "</div>"
      ],
      "text/plain": [
       "                 Team League   W   L  Runs For  Runs Against     RF2     RA2  \\\n",
       "14  Baltimore Orioles     AL  81  81       713           693  508369  480249   \n",
       "11     Boston Red Sox     AL  78  84       748           753  559504  567009   \n",
       "9   Chicago White Sox     AL  76  86       622           701  386884  491401   \n",
       "15  Cleveland Indians     AL  81  80       669           640  447561  409600   \n",
       "8      Detroit Tigers     AL  74  87       689           803  474721  644809   \n",
       "\n",
       "          WP       EWP      Diff  \n",
       "14  0.507112  0.514222 -0.007109  \n",
       "11  0.498334  0.496669  0.001666  \n",
       "9   0.470144  0.440499  0.029644  \n",
       "15  0.511077  0.522143 -0.011066  \n",
       "8   0.461796  0.424036  0.037760  "
      ]
     },
     "execution_count": 15,
     "metadata": {},
     "output_type": "execute_result"
    }
   ],
   "source": [
    "dm['WP']  = dm['Runs For'] / (dm['Runs For']  + dm['Runs Against'] )\n",
    "dm['EWP'] = dm['RF2'] / (dm['RF2']+ dm['RA2'] )\n",
    "dm['Diff'] = dm['WP']  - dm['EWP']\n",
    "dm.head()"
   ]
  },
  {
   "cell_type": "code",
   "execution_count": 16,
   "metadata": {
    "slideshow": {
     "slide_type": "-"
    }
   },
   "outputs": [
    {
     "data": {
      "text/html": [
       "<div>\n",
       "<style scoped>\n",
       "    .dataframe tbody tr th:only-of-type {\n",
       "        vertical-align: middle;\n",
       "    }\n",
       "\n",
       "    .dataframe tbody tr th {\n",
       "        vertical-align: top;\n",
       "    }\n",
       "\n",
       "    .dataframe thead th {\n",
       "        text-align: right;\n",
       "    }\n",
       "</style>\n",
       "<table border=\"1\" class=\"dataframe\">\n",
       "  <thead>\n",
       "    <tr style=\"text-align: right;\">\n",
       "      <th></th>\n",
       "      <th>Team</th>\n",
       "      <th>WP</th>\n",
       "      <th>EWP</th>\n",
       "    </tr>\n",
       "  </thead>\n",
       "  <tbody>\n",
       "    <tr>\n",
       "      <th>14</th>\n",
       "      <td>Baltimore Orioles</td>\n",
       "      <td>0.507112</td>\n",
       "      <td>0.514222</td>\n",
       "    </tr>\n",
       "    <tr>\n",
       "      <th>11</th>\n",
       "      <td>Boston Red Sox</td>\n",
       "      <td>0.498334</td>\n",
       "      <td>0.496669</td>\n",
       "    </tr>\n",
       "    <tr>\n",
       "      <th>9</th>\n",
       "      <td>Chicago White Sox</td>\n",
       "      <td>0.470144</td>\n",
       "      <td>0.440499</td>\n",
       "    </tr>\n",
       "    <tr>\n",
       "      <th>15</th>\n",
       "      <td>Cleveland Indians</td>\n",
       "      <td>0.511077</td>\n",
       "      <td>0.522143</td>\n",
       "    </tr>\n",
       "    <tr>\n",
       "      <th>8</th>\n",
       "      <td>Detroit Tigers</td>\n",
       "      <td>0.461796</td>\n",
       "      <td>0.424036</td>\n",
       "    </tr>\n",
       "  </tbody>\n",
       "</table>\n",
       "</div>"
      ],
      "text/plain": [
       "                 Team        WP       EWP\n",
       "14  Baltimore Orioles  0.507112  0.514222\n",
       "11     Boston Red Sox  0.498334  0.496669\n",
       "9   Chicago White Sox  0.470144  0.440499\n",
       "15  Cleveland Indians  0.511077  0.522143\n",
       "8      Detroit Tigers  0.461796  0.424036"
      ]
     },
     "execution_count": 16,
     "metadata": {},
     "output_type": "execute_result"
    }
   ],
   "source": [
    "dm[['Team', 'WP', 'EWP']].head()"
   ]
  },
  {
   "cell_type": "markdown",
   "metadata": {
    "slideshow": {
     "slide_type": "slide"
    }
   },
   "source": [
    "## Save to csv file"
   ]
  },
  {
   "cell_type": "code",
   "execution_count": 17,
   "metadata": {
    "slideshow": {
     "slide_type": "-"
    }
   },
   "outputs": [],
   "source": [
    "dm.to_csv('mlb_expected.csv')"
   ]
  },
  {
   "cell_type": "markdown",
   "metadata": {
    "slideshow": {
     "slide_type": "slide"
    }
   },
   "source": [
    "## Done"
   ]
  }
 ],
 "metadata": {
  "anaconda-cloud": {},
  "celltoolbar": "Slideshow",
  "kernelspec": {
   "display_name": "Python [default]",
   "language": "python",
   "name": "python3"
  },
  "language_info": {
   "codemirror_mode": {
    "name": "ipython",
    "version": 3
   },
   "file_extension": ".py",
   "mimetype": "text/x-python",
   "name": "python",
   "nbconvert_exporter": "python",
   "pygments_lexer": "ipython3",
   "version": "3.6.3"
  }
 },
 "nbformat": 4,
 "nbformat_minor": 1
}
